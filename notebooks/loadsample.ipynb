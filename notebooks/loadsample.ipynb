{
 "cells": [
  {
   "cell_type": "code",
   "execution_count": 21,
   "id": "6298ec63",
   "metadata": {},
   "outputs": [],
   "source": [
    "import cv2\n",
    "from io import BytesIO\n",
    "from PIL import Image\n",
    "import IPython"
   ]
  },
  {
   "cell_type": "code",
   "execution_count": null,
   "id": "7559f3f3",
   "metadata": {},
   "outputs": [],
   "source": [
    "MOVIE_FILE_PATH = \"../resources/movie/sample.mp4\""
   ]
  },
  {
   "cell_type": "code",
   "execution_count": 24,
   "id": "018e140b",
   "metadata": {},
   "outputs": [],
   "source": [
    "# debug用\n",
    "def show(frame, fmt='jpeg'):\n",
    "    frame = cv2.cvtColor(frame, cv2.COLOR_BGR2RGB)\n",
    "    f = BytesIO()\n",
    "    Image.fromarray(frame).save(f, fmt)\n",
    "    IPython.display.display(IPython.display.Image(data=f.getvalue()))"
   ]
  },
  {
   "cell_type": "code",
   "execution_count": 4,
   "id": "dae648ac",
   "metadata": {},
   "outputs": [],
   "source": []
  },
  {
   "cell_type": "code",
   "execution_count": 28,
   "id": "0b1d54aa",
   "metadata": {},
   "outputs": [
    {
     "name": "stdout",
     "output_type": "stream",
     "text": [
      "\n",
      "size: (1920, 1080)\n",
      "frame_count: 21724\n",
      "frame_rate: 60\n",
      "\n"
     ]
    }
   ],
   "source": [
    "# サイズ取得\n",
    "width = int(video.get(cv2.CAP_PROP_FRAME_WIDTH))\n",
    "height = int(video.get(cv2.CAP_PROP_FRAME_HEIGHT))\n",
    "size = (width, height)\n",
    "#総フレーム数を取得\n",
    "frame_count = int(video.get(cv2.CAP_PROP_FRAME_COUNT))\n",
    "\n",
    "#フレームレート(1フレームの時間単位はミリ秒)の取得\n",
    "frame_rate = int(video.get(cv2.CAP_PROP_FPS))\n",
    "print(f\"\"\"\n",
    "size: {size}\n",
    "frame_count: {frame_count}\n",
    "frame_rate: {frame_rate}\n",
    "\"\"\")"
   ]
  },
  {
   "cell_type": "code",
   "execution_count": 54,
   "id": "59c25408",
   "metadata": {},
   "outputs": [
    {
     "name": "stdout",
     "output_type": "stream",
     "text": [
      "canceled\n"
     ]
    }
   ],
   "source": [
    "show_rate = 100\n",
    "video = cv2.VideoCapture(MOVIE_FILE_PATH)\n",
    "frame_count = 0\n",
    "try:\n",
    "    while True:\n",
    "        frame_count += 1\n",
    "        if frame_count % show_rate != 0:\n",
    "            continue\n",
    "        ret, frame = video.read()\n",
    "        show(frame)\n",
    "        IPython.display.clear_output(wait=True)\n",
    "except KeyboardInterrupt:\n",
    "    video.release()\n",
    "    print('canceled')"
   ]
  },
  {
   "cell_type": "code",
   "execution_count": 53,
   "id": "bf91620a",
   "metadata": {},
   "outputs": [
    {
     "name": "stdout",
     "output_type": "stream",
     "text": [
      "canceled\n"
     ]
    }
   ],
   "source": [
    "cap = cv2.VideoCapture(MOVIE_FILE_PATH)\n",
    "frame_count = int(cap.get(cv2.CAP_PROP_FRAME_COUNT))\n",
    "fps = int(cap.get(cv2.CAP_PROP_FPS))\n",
    "# 1分後から再生\n",
    "start_pos = fps * (60 * 1)\n",
    "\n",
    "try:\n",
    "    for idx in range(start_pos, frame_count, round(fps)):\n",
    "        cap.set(cv2.CAP_PROP_POS_FRAMES, idx)\n",
    "        current_pos = str(int(cap.get(cv2.CAP_PROP_POS_FRAMES)))\n",
    "        ret, frame = cap.read()\n",
    "        show(frame)\n",
    "        IPython.display.clear_output(wait=True)\n",
    "        \n",
    "except KeyboardInterrupt:\n",
    "    cap.release()\n",
    "    print('canceled')"
   ]
  },
  {
   "cell_type": "code",
   "execution_count": null,
   "id": "97e2b3df",
   "metadata": {},
   "outputs": [],
   "source": []
  }
 ],
 "metadata": {
  "kernelspec": {
   "display_name": "Python 3 (ipykernel)",
   "language": "python",
   "name": "python3"
  },
  "language_info": {
   "codemirror_mode": {
    "name": "ipython",
    "version": 3
   },
   "file_extension": ".py",
   "mimetype": "text/x-python",
   "name": "python",
   "nbconvert_exporter": "python",
   "pygments_lexer": "ipython3",
   "version": "3.9.7"
  }
 },
 "nbformat": 4,
 "nbformat_minor": 5
}
